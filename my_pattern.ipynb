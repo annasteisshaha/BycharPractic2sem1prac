{
 "cells": [
  {
   "cell_type": "code",
   "execution_count": 1,
   "id": "21b8972f",
   "metadata": {},
   "outputs": [],
   "source": [
    "import os\n",
    "import re \n",
    "import string\n",
    "import copy\n",
    "import numpy as np \n",
    "from os.path import isfile, join\n",
    "from my_func_for_pattern import *"
   ]
  },
  {
   "cell_type": "code",
   "execution_count": 2,
   "id": "8f4fb9f0",
   "metadata": {},
   "outputs": [
    {
     "name": "stdout",
     "output_type": "stream",
     "text": [
      "Вы находитесь в папке Programming patterns\n",
      "Хотите изменить директорию? нет\n",
      "Хотите выполнить тестирование? нет\n",
      "Работа программы завершена\n"
     ]
    }
   ],
   "source": [
    "departments = ['accounting', 'finance', 'marketing', 'production', 'purchasing', 'sales'] # список с названиями отделов\n",
    "letters = list(string.ascii_lowercase) # список букв, для генерации файлов\n",
    "\n",
    "def file_generator(departments, letters, n): # функция для генерации файлов\n",
    "    lst_files = []\n",
    "    departments_copy = copy.deepcopy(departments)\n",
    "    departments_copy.append('apple')\n",
    "    for i in range(n):\n",
    "        add_num = np.random.randint(1, 10, 1)\n",
    "        file_name = ''.join(np.random.choice(letters, add_num)) + np.random.choice(departments_copy) + ''.join(np.random.choice(letters, add_num)) + '.txt'\n",
    "        lst_files.append(file_name)\n",
    "        create_file(file_name)\n",
    "    print(f'Созданы сделующие файлы: {lst_files}')\n",
    "    \n",
    "direct = os.getcwd()\n",
    "print('Вы находитесь в папке' , direct.split('\\\\')[-1])\n",
    "\n",
    "while True:\n",
    "    ans = input('Хотите изменить директорию? ')\n",
    "    if ans == 'да':\n",
    "        name = input('Введите имя папки, в которую хотите перейти ->> ')\n",
    "        change_directory(name)\n",
    "        direct = os.getcwd()\n",
    "        print('Вы находитесь в папке' , direct.split('\\\\')[-1])\n",
    "    elif ans == 'нет':\n",
    "        break\n",
    "    else:\n",
    "        print('Неккоректный ввод!')\n",
    "        continue\n",
    "\n",
    "while True:\n",
    "    ans = input('Хотите выполнить тестирование? ')\n",
    "    if ans == 'да':\n",
    "        count = int(input('Введите кол-во файлов для создания ->> '))\n",
    "        file_generator(departments, letters, count)\n",
    "        \n",
    "        files_in_dir = [f for f in os.listdir(os.getcwd()) if isfile(join(os.getcwd(), f))] # список файлов в папке\n",
    "        \n",
    "        for file_name in files_in_dir:\n",
    "            re_file = re.findall(r'|'.join(departments), file_name)\n",
    "            if len(re_file) == 0:\n",
    "                create_folder('Прочее')\n",
    "                move_file(file_name, 'Прочее')\n",
    "            else:\n",
    "                create_folder(re_file[0])\n",
    "                move_file(file_name, re_file[0])\n",
    "        print('Выполнено!')\n",
    "    elif ans == 'нет':\n",
    "        print('Работа программы завершена')\n",
    "        break\n",
    "    else:\n",
    "        print('Неккоректный ввод!')\n",
    "        continue"
   ]
  },
  {
   "cell_type": "code",
   "execution_count": null,
   "id": "7f8a7641",
   "metadata": {},
   "outputs": [],
   "source": []
  }
 ],
 "metadata": {
  "kernelspec": {
   "display_name": "Python 3 (ipykernel)",
   "language": "python",
   "name": "python3"
  },
  "language_info": {
   "codemirror_mode": {
    "name": "ipython",
    "version": 3
   },
   "file_extension": ".py",
   "mimetype": "text/x-python",
   "name": "python",
   "nbconvert_exporter": "python",
   "pygments_lexer": "ipython3",
   "version": "3.9.7"
  }
 },
 "nbformat": 4,
 "nbformat_minor": 5
}
